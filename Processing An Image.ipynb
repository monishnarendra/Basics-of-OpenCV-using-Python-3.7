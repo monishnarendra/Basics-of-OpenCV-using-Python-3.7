{
 "cells": [
  {
   "cell_type": "code",
   "execution_count": 10,
   "metadata": {},
   "outputs": [],
   "source": [
    "import cv2\n",
    "import numpy as np"
   ]
  },
  {
   "cell_type": "code",
   "execution_count": 16,
   "metadata": {
    "scrolled": true
   },
   "outputs": [],
   "source": [
    "# Shifting Image\n",
    "pic = cv2.imread('C:/Users/Asus/Desktop/img.jpg')\n",
    "cols = pic.shape[1]\n",
    "rows = pic.shape[0]\n",
    "\n",
    "M = np.float32([[1,0,150],[0,1,70]])\n",
    "shifted = cv2.warpAffine(pic, M, (cols,rows)) # Parameters\n",
    "                                              # 1) var\n",
    "                                              # 2) matrix\n",
    "                                              # 3) Image matrix\n",
    "\n",
    "cv2.imshow('Shifted',shifted)\n",
    "cv2.waitKey(0)\n",
    "cv2.destroyAllWindows()"
   ]
  },
  {
   "cell_type": "code",
   "execution_count": 20,
   "metadata": {},
   "outputs": [],
   "source": [
    "# Rotating Image\n",
    "pic = cv2.imread('C:/Users/Asus/Desktop/img.jpg')\n",
    "cols = pic.shape[1]\n",
    "rows = pic.shape[0]\n",
    "\n",
    "angle = 90 # -90 for opposite\n",
    "center = (rows/2,cols/2)\n",
    "M = cv2.getRotationMatrix2D(center,angle,1) # Parameters\n",
    "                                            # 1) center of rotation\n",
    "                                            # 2) Angle of rotation needed\n",
    "                                            # 3) scale Zoom\n",
    "rotate = cv2.warpAffine(pic,M,(cols,rows))\n",
    "\n",
    "cv2.imshow('Rotated',rotate)\n",
    "cv2.waitKey(0)\n",
    "cv2.destroyAllWindows()"
   ]
  },
  {
   "cell_type": "code",
   "execution_count": 39,
   "metadata": {},
   "outputs": [],
   "source": [
    "# Thresholding Image \n",
    "pic = cv2.imread('C:/Users/Asus/Desktop/img.jpg')\n",
    "cv2.imshow('Orginal',pic)\n",
    "\n",
    "threshold_value = 120\n",
    "(t_value,binary_Threshold) = cv2.threshold(pic,threshold_value,255,cv2.THRESH_BINARY)\n",
    "\n",
    "cv2.imshow('Binary',binary_Threshold)\n",
    "cv2.waitKey(0)\n",
    "cv2.destroyAllWindows()"
   ]
  },
  {
   "cell_type": "code",
   "execution_count": 31,
   "metadata": {},
   "outputs": [],
   "source": [
    "# Gaussian Blur\n",
    "pic = cv2.imread('C:/Users/Asus/Desktop/img.jpg',0)\n",
    "\n",
    "matrix = (7,7)\n",
    "blur = cv2.GaussianBlur(pic,matrix,1)\n",
    "\n",
    "cv2.imshow('Blur',blur)\n",
    "cv2.waitKey(0)\n",
    "cv2.destroyAllWindows()"
   ]
  },
  {
   "cell_type": "code",
   "execution_count": 35,
   "metadata": {},
   "outputs": [],
   "source": [
    "# Median Blur\n",
    "# is used to remove noice from an Image\n",
    "pic = cv2.imread('C:/Users/Asus/Desktop/img.jpg',0)\n",
    "\n",
    "kernal = 3\n",
    "median = cv2.medianBlur(pic,kernal)\n",
    "\n",
    "cv2.imshow('Median Blur',median)\n",
    "cv2.imshow('Original',pic)\n",
    "cv2.waitKey(0)\n",
    "cv2.destroyAllWindows()"
   ]
  },
  {
   "cell_type": "code",
   "execution_count": 38,
   "metadata": {},
   "outputs": [],
   "source": [
    "# Bilateral Filtering\n",
    "pic = cv2.imread('C:/Users/Asus/Desktop/img.jpg',0)\n",
    "\n",
    "dimpixel = 7\n",
    "color = 150 # more colors are near the pixel\n",
    "space = 100 # how far from the center pixel we are going to include the pixel\n",
    "filter = cv2.bilateralFilter(pic,dimpixel,color,space)\n",
    "\n",
    "cv2.imshow('Bilateral Filtering',filter)\n",
    "cv2.waitKey(0)\n",
    "cv2.destroyAllWindows()\n"
   ]
  },
  {
   "cell_type": "code",
   "execution_count": null,
   "metadata": {},
   "outputs": [],
   "source": []
  }
 ],
 "metadata": {
  "kernelspec": {
   "display_name": "Python 3",
   "language": "python",
   "name": "python3"
  },
  "language_info": {
   "codemirror_mode": {
    "name": "ipython",
    "version": 3
   },
   "file_extension": ".py",
   "mimetype": "text/x-python",
   "name": "python",
   "nbconvert_exporter": "python",
   "pygments_lexer": "ipython3",
   "version": "3.7.1"
  }
 },
 "nbformat": 4,
 "nbformat_minor": 2
}
