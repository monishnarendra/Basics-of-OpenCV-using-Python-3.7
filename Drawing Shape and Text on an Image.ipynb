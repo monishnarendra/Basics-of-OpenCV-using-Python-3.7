{
 "cells": [
  {
   "cell_type": "code",
   "execution_count": 2,
   "metadata": {},
   "outputs": [],
   "source": [
    "import cv2\n",
    "import numpy as np"
   ]
  },
  {
   "cell_type": "code",
   "execution_count": 30,
   "metadata": {},
   "outputs": [],
   "source": [
    "# Open an Image\n",
    "img = cv2.imread('C:/Users/Asus/Desktop/img.jpg',0) # Read Image\n",
    "                                                    # 0 -- gives the Image in Grey\n",
    "                                                    # 1 -- gives the Image in All Colors (R,G,B)\n",
    "    \n",
    "cv2.imshow('Original',img) # Display Image\n",
    "cv2.waitKey(0) # will Open and wait for a while\n",
    "cv2.destroyAllWindows() # Close all Window"
   ]
  },
  {
   "cell_type": "code",
   "execution_count": 16,
   "metadata": {},
   "outputs": [],
   "source": [
    "# Save an Image in Different Format\n",
    "img = cv2.imread('C:/Users/Asus/Desktop/img.jpg',0) # Read Image\n",
    "img = cv2.imwrite('C:/Users/Asus/Desktop/img.png',img) # Write Image / Save Image\n",
    "cv2.imshow('Original',img) # Display Image\n",
    "cv2.waitKey(0) # will Open and wait for a while\n",
    "cv2.destroyAllWindows() # Close all Window"
   ]
  },
  {
   "cell_type": "code",
   "execution_count": 11,
   "metadata": {},
   "outputs": [],
   "source": [
    "# Drawing a Rectangle\n",
    "pic = np.zeros((500,500,3), dtype= 'uint8') # Main Window Size\n",
    "cv2.rectangle(pic,(0,0),(100,150),(2,100,90),3,lineType=8,shift=0)  # Parameters\n",
    "                                                                    # 1) var\n",
    "                                                                    # 2) location (x,y)\n",
    "                                                                    # 3) size (H,W)\n",
    "                                                                    # 4) color (R,G,B)\n",
    "                                                                    # 5) # 6) # 7) \n",
    "cv2.imshow('dark',pic)\n",
    "cv2.waitKey(0)\n",
    "cv2.destroyAllWindows()"
   ]
  },
  {
   "cell_type": "code",
   "execution_count": 19,
   "metadata": {},
   "outputs": [],
   "source": [
    "# Drawing a Line\n",
    "pic = np.zeros((500,500,3),dtype = 'uint8')\n",
    "cv2.line(pic,(0,10),(500,10),(0,0,255))   # Parameters\n",
    "                                          # 1) var\n",
    "                                          # 2) location (x,y) Start\n",
    "                                          # 3) location (x,y) End\n",
    "                                          # 4) color (R,G,B)\n",
    "cv2.imshow('dark',pic)\n",
    "cv2.waitKey(0)\n",
    "cv2.destroyAllWindows()"
   ]
  },
  {
   "cell_type": "code",
   "execution_count": 22,
   "metadata": {},
   "outputs": [],
   "source": [
    "# Drawing a Circle\n",
    "pic = np.zeros((500,500,3),dtype = 'uint8')\n",
    "color = (255,0,255)\n",
    "cv2.circle(pic,(250,250),100,color)  # Parameters\n",
    "                                     # 1) var\n",
    "                                     # 2) location (x,y) center\n",
    "                                     # 3) size Radious\n",
    "                                     # 4) color (R,G,B)\n",
    "cv2.imshow('dark',pic)\n",
    "cv2.waitKey(0)\n",
    "cv2.destroyAllWindows()"
   ]
  },
  {
   "cell_type": "code",
   "execution_count": 31,
   "metadata": {},
   "outputs": [],
   "source": [
    "# Drawing a Text\n",
    "pic = np.zeros((500,500,3),dtype = 'uint8')\n",
    "font = cv2.FONT_HERSHEY_SIMPLEX\n",
    "cv2.putText(pic,'Hello',(100,100),font,3,(202,200,252),7,cv2.LINE_8) # Parameters\n",
    "                                                                     # 1) var\n",
    "                                                                     # 2) Text // String \n",
    "                                                                     # 2) location (x,y)\n",
    "                                                                     # 3) font\n",
    "                                                                     # 4) Size of Text\n",
    "                                                                     # 5) Color\n",
    "                                                                     # 6) Thickness of Letters\n",
    "                                                                     # 7) Type of line\n",
    "cv2.imshow('dark',pic)\n",
    "cv2.waitKey(0)\n",
    "cv2.destroyAllWindows()"
   ]
  },
  {
   "cell_type": "code",
   "execution_count": 1,
   "metadata": {},
   "outputs": [
    {
     "ename": "NameError",
     "evalue": "name 'cv2' is not defined",
     "output_type": "error",
     "traceback": [
      "\u001b[1;31m---------------------------------------------------------------------------\u001b[0m",
      "\u001b[1;31mNameError\u001b[0m                                 Traceback (most recent call last)",
      "\u001b[1;32m<ipython-input-1-946e55939581>\u001b[0m in \u001b[0;36m<module>\u001b[1;34m\u001b[0m\n\u001b[0;32m      1\u001b[0m \u001b[1;31m# Drawing on Image\u001b[0m\u001b[1;33m\u001b[0m\u001b[1;33m\u001b[0m\u001b[1;33m\u001b[0m\u001b[0m\n\u001b[1;32m----> 2\u001b[1;33m \u001b[0mimg\u001b[0m \u001b[1;33m=\u001b[0m \u001b[0mcv2\u001b[0m\u001b[1;33m.\u001b[0m\u001b[0mimread\u001b[0m\u001b[1;33m(\u001b[0m\u001b[1;34m'C:/Users/Asus/Desktop/img.jpg'\u001b[0m\u001b[1;33m,\u001b[0m\u001b[1;36m0\u001b[0m\u001b[1;33m)\u001b[0m\u001b[1;33m\u001b[0m\u001b[1;33m\u001b[0m\u001b[0m\n\u001b[0m\u001b[0;32m      3\u001b[0m \u001b[1;33m\u001b[0m\u001b[0m\n\u001b[0;32m      4\u001b[0m \u001b[0mfont\u001b[0m \u001b[1;33m=\u001b[0m \u001b[0mcv2\u001b[0m\u001b[1;33m.\u001b[0m\u001b[0mFONT_HERSHEY_SIMPLEX\u001b[0m\u001b[1;33m\u001b[0m\u001b[1;33m\u001b[0m\u001b[0m\n\u001b[0;32m      5\u001b[0m \u001b[0mcv2\u001b[0m\u001b[1;33m.\u001b[0m\u001b[0mputText\u001b[0m\u001b[1;33m(\u001b[0m\u001b[0mimg\u001b[0m\u001b[1;33m,\u001b[0m\u001b[1;34m'Hello'\u001b[0m\u001b[1;33m,\u001b[0m\u001b[1;33m(\u001b[0m\u001b[1;36m100\u001b[0m\u001b[1;33m,\u001b[0m\u001b[1;36m100\u001b[0m\u001b[1;33m)\u001b[0m\u001b[1;33m,\u001b[0m\u001b[0mfont\u001b[0m\u001b[1;33m,\u001b[0m\u001b[1;36m3\u001b[0m\u001b[1;33m,\u001b[0m\u001b[1;33m(\u001b[0m\u001b[1;36m202\u001b[0m\u001b[1;33m,\u001b[0m\u001b[1;36m200\u001b[0m\u001b[1;33m,\u001b[0m\u001b[1;36m252\u001b[0m\u001b[1;33m)\u001b[0m\u001b[1;33m,\u001b[0m\u001b[1;36m7\u001b[0m\u001b[1;33m,\u001b[0m\u001b[0mcv2\u001b[0m\u001b[1;33m.\u001b[0m\u001b[0mLINE_8\u001b[0m\u001b[1;33m)\u001b[0m\u001b[1;33m\u001b[0m\u001b[1;33m\u001b[0m\u001b[0m\n",
      "\u001b[1;31mNameError\u001b[0m: name 'cv2' is not defined"
     ]
    }
   ],
   "source": [
    "# Drawing on Image \n",
    "img = cv2.imread('C:/Users/Asus/Desktop/img.jpg',0) \n",
    "\n",
    "font = cv2.FONT_HERSHEY_SIMPLEX\n",
    "cv2.putText(img,'Hello',(100,100),font,3,(202,200,252),7,cv2.LINE_8)\n",
    "\n",
    "cv2.imshow('Original',img) \n",
    "cv2.waitKey(0)\n",
    "cv2.destroyAllWindows()"
   ]
  },
  {
   "cell_type": "code",
   "execution_count": null,
   "metadata": {},
   "outputs": [],
   "source": []
  }
 ],
 "metadata": {
  "kernelspec": {
   "display_name": "Python 3",
   "language": "python",
   "name": "python3"
  },
  "language_info": {
   "codemirror_mode": {
    "name": "ipython",
    "version": 3
   },
   "file_extension": ".py",
   "mimetype": "text/x-python",
   "name": "python",
   "nbconvert_exporter": "python",
   "pygments_lexer": "ipython3",
   "version": "3.7.1"
  }
 },
 "nbformat": 4,
 "nbformat_minor": 2
}
